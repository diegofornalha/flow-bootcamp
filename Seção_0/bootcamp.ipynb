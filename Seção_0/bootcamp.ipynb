{
  "nbformat": 4,
  "nbformat_minor": 5,
  "metadata": {
    "selected_hardware_size": "small",
    "noteable": {
      "last_transaction_id": "26b33e44-917b-4915-9d61-ba03b74fd8be"
    }
  },
  "cells": [
    {
      "id": "507a6d3e-fc33-4d1f-bd62-75a07c4ec673",
      "cell_type": "markdown",
      "source": "# Bem-vindo ao Bootcamp Flow Blockchain!\nOlá! Meu nome é **Diego Alcantara**, o primeiro embaixador da Flow Blockchain na América Latina, e serei seu monitor pessoal neste bootcamp.\n\nEste projeto é destinado a desenvolvedores que desejam começar a usar o **Flow**, um blockchain criado para a próxima geração de jogos, aplicativos e ativos digitais que os alimentam.\n\nCentenas de milhares de usuários já aproveitam as experiências que empresas como NBA, NFL e UFC construíram no Flow.\n\nTudo o que você realmente precisa saber para começar é um pouco de JavaScript e o básico do React.js. Você vai pegar o resto ao longo do caminho.\n\n## Itens de Ação\nAntes de prosseguir, aqui estão alguns itens de ação para você:\n\n1. Conecte seu Discord no painel do projeto. Todas as coisas boas acontecerão em uma categoria secreta no Discord, à qual você só terá acesso depois de conectar seu Discord.\n2. Conecte sua carteira Ethereum no painel do projeto. Enviaremos um NFT para você assim que terminar isso e, se você não tiver uma carteira conectada, não poderemos enviá-lo para você! Faremos FLOATS no Flow, mas, por enquanto, todo o nosso sistema é construído em Ethereum/Polygon, então é para lá que enviaremos os NFTs.\n3. Certifique-se de assistir ao pontapé inicial ao vivo. Se você perder, não se preocupe. Não é obrigatório comparecer! A gravação será postada no Discord em #info-board.",
      "metadata": {
        "noteable": {
          "cell_type": "markdown"
        }
      }
    },
    {
      "id": "38d93424-0b25-4f38-bf63-87366441ffec",
      "cell_type": "markdown",
      "source": "## O Projeto\nEntão, o que vamos construir aqui? Confira o vídeo abaixo para uma visão geral do projeto que vamos desenvolver durante este bootcamp:\n\n[Assista ao Vídeo](https://www.loom.com/share/95236c2fd5f44107a7ee31f02c6a5dab)",
      "metadata": {
        "noteable": {
          "cell_type": "markdown"
        }
      }
    }
  ]
}