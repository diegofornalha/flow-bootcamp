{
  "nbformat": 4,
  "nbformat_minor": 5,
  "metadata": {
    "selected_hardware_size": "small",
    "noteable": {
      "last_transaction_id": "64fb6951-2186-4d48-a6b4-1abf0a3f2fbc"
    }
  },
  "cells": [
    {
      "id": "9333865f",
      "cell_type": "code",
      "metadata": {
        "noteable": {
          "output_collection_id": "ce8edbcf-25ed-45b3-8227-eecee23cdf90"
        },
        "ExecuteTime": {
          "end_time": "2023-06-11T20:56:28.220994+00:00",
          "start_time": "2023-06-11T20:56:28.061829+00:00"
        }
      },
      "execution_count": null,
      "source": "",
      "outputs": []
    },
    {
      "id": "507a6d3e-fc33-4d1f-bd62-75a07c4ec673",
      "cell_type": "markdown",
      "source": "Você conseguiu - bem-vindo! Meu nome é Diego Alcantara o primeiro embaixador da flow blockchain na america latina e serei seu monitor pessoal nesse bootcamp!\n\nEste projeto é para desenvolvedores que desejam começar a usar o Flow, um blockchain criado para a próxima geração de jogos, aplicativos e ativos digitais que os alimentam.\n\nCentenas de milhares de usuários já aproveitam as experiências que empresas como NBA, NFL e UFC construíram no Flow.\n\nTudo o que você realmente precisa saber sobre isso: um pouco de javascript e o básico do React.js.\n\nVocê vai pegar o resto ao longo do caminho.\n\nAlguns itens de ação para você antes de prosseguir:\n\n1. Conecte seu Discord no painel do projeto. Todas as coisas boas acontecerão em uma categoria secreta no Discord, à qual você só terá acesso depois de conectar seu Discord.\n2. Conecte sua carteira Ethereum no painel do projeto. Enviaremos um NFT para você assim que terminar isso e, se você não tiver uma carteira conectada, não poderemos enviá-lo para você !! Faremos FLOATS no Flow, mas, por enquanto, todo o nosso sistema é construído em Ethereum/Polygon, então é para lá que enviaremos os NFTs :).\n3. Certifique-se de assistir ao pontapé inicial ao vivo. Se você perder, não se preocupe. Não é obrigatório comparecer! A gravação será postada no Discord em #info-board.",
      "metadata": {
        "noteable": {
          "cell_type": "markdown"
        }
      }
    },
    {
      "id": "38d93424-0b25-4f38-bf63-87366441ffec",
      "cell_type": "markdown",
      "source": "### 🛠 O projeto\n\nEntão, o que vamos construir aqui :) ?\nAqui está um pequeno vídeo:\n\n[Assista ao Vídeo](https://www.loom.com/share/95236c2fd5f44107a7ee31f02c6a5dab)",
      "metadata": {
        "noteable": {
          "cell_type": "markdown"
        }
      }
    }
  ]
}